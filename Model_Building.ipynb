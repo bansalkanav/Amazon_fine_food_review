{
 "cells": [
  {
   "cell_type": "markdown",
   "metadata": {},
   "source": [
    "# Amazon Fine Food Reviews Prediction Model"
   ]
  },
  {
   "cell_type": "markdown",
   "metadata": {},
   "source": [
    "<b>Data Fields Explanation</b><br />\n",
    "\n",
    "The Amazon Fine Food Reviews dataset consists of 568,454 food reviews. This dataset consists of a single CSV file, Reviews.csv. The columns in the table are:\n",
    "<pre>\n",
    "    Id - Unique row number\n",
    "    ProductId - unique identifier for the product\n",
    "    UserId - unqiue identifier for the user\n",
    "    ProfileName\n",
    "    HelpfulnessNumerator - number of users who found the review helpful\n",
    "    HelpfulnessDenominator - number of users who indicated whether they found the review helpful\n",
    "    Score - rating between 1 and 5\n",
    "    Time - timestamp for the review\n",
    "    Summary - brief summary of the review\n",
    "    Text - text of the review\n",
    "</pre>"
   ]
  },
  {
   "cell_type": "markdown",
   "metadata": {},
   "source": [
    "We will built a model on this data using <b>NAIVE BAYES</b>. Let's do everything step by step.\n",
    "<pre>\n",
    "    <b>STEP-1:</b> Copy the data in Pandas DataFrame and drop unwanted columns.\n",
    "    <b>STEP-2:</b> Text Preprocessing.\n",
    "    <b>STEP-3:</b> Vectorizing out Data Set\n",
    "    <b>STEP-4:</b> Building and evaluating the model\n",
    "</pre>"
   ]
  },
  {
   "cell_type": "markdown",
   "metadata": {},
   "source": [
    "## STEP-1: Reading the data and removing unwanted columns"
   ]
  },
  {
   "cell_type": "code",
   "execution_count": 1,
   "metadata": {},
   "outputs": [
    {
     "data": {
      "text/html": [
       "<div>\n",
       "<style>\n",
       "    .dataframe thead tr:only-child th {\n",
       "        text-align: right;\n",
       "    }\n",
       "\n",
       "    .dataframe thead th {\n",
       "        text-align: left;\n",
       "    }\n",
       "\n",
       "    .dataframe tbody tr th {\n",
       "        vertical-align: top;\n",
       "    }\n",
       "</style>\n",
       "<table border=\"1\" class=\"dataframe\">\n",
       "  <thead>\n",
       "    <tr style=\"text-align: right;\">\n",
       "      <th></th>\n",
       "      <th>Id</th>\n",
       "      <th>ProductId</th>\n",
       "      <th>UserId</th>\n",
       "      <th>ProfileName</th>\n",
       "      <th>HelpfulnessNumerator</th>\n",
       "      <th>HelpfulnessDenominator</th>\n",
       "      <th>Score</th>\n",
       "      <th>Time</th>\n",
       "      <th>Summary</th>\n",
       "      <th>Text</th>\n",
       "    </tr>\n",
       "  </thead>\n",
       "  <tbody>\n",
       "    <tr>\n",
       "      <th>0</th>\n",
       "      <td>1</td>\n",
       "      <td>B001E4KFG0</td>\n",
       "      <td>A3SGXH7AUHU8GW</td>\n",
       "      <td>delmartian</td>\n",
       "      <td>1</td>\n",
       "      <td>1</td>\n",
       "      <td>5</td>\n",
       "      <td>1303862400</td>\n",
       "      <td>Good Quality Dog Food</td>\n",
       "      <td>I have bought several of the Vitality canned d...</td>\n",
       "    </tr>\n",
       "    <tr>\n",
       "      <th>1</th>\n",
       "      <td>2</td>\n",
       "      <td>B00813GRG4</td>\n",
       "      <td>A1D87F6ZCVE5NK</td>\n",
       "      <td>dll pa</td>\n",
       "      <td>0</td>\n",
       "      <td>0</td>\n",
       "      <td>1</td>\n",
       "      <td>1346976000</td>\n",
       "      <td>Not as Advertised</td>\n",
       "      <td>Product arrived labeled as Jumbo Salted Peanut...</td>\n",
       "    </tr>\n",
       "    <tr>\n",
       "      <th>2</th>\n",
       "      <td>3</td>\n",
       "      <td>B000LQOCH0</td>\n",
       "      <td>ABXLMWJIXXAIN</td>\n",
       "      <td>Natalia Corres \"Natalia Corres\"</td>\n",
       "      <td>1</td>\n",
       "      <td>1</td>\n",
       "      <td>4</td>\n",
       "      <td>1219017600</td>\n",
       "      <td>\"Delight\" says it all</td>\n",
       "      <td>This is a confection that has been around a fe...</td>\n",
       "    </tr>\n",
       "    <tr>\n",
       "      <th>3</th>\n",
       "      <td>4</td>\n",
       "      <td>B000UA0QIQ</td>\n",
       "      <td>A395BORC6FGVXV</td>\n",
       "      <td>Karl</td>\n",
       "      <td>3</td>\n",
       "      <td>3</td>\n",
       "      <td>2</td>\n",
       "      <td>1307923200</td>\n",
       "      <td>Cough Medicine</td>\n",
       "      <td>If you are looking for the secret ingredient i...</td>\n",
       "    </tr>\n",
       "    <tr>\n",
       "      <th>4</th>\n",
       "      <td>5</td>\n",
       "      <td>B006K2ZZ7K</td>\n",
       "      <td>A1UQRSCLF8GW1T</td>\n",
       "      <td>Michael D. Bigham \"M. Wassir\"</td>\n",
       "      <td>0</td>\n",
       "      <td>0</td>\n",
       "      <td>5</td>\n",
       "      <td>1350777600</td>\n",
       "      <td>Great taffy</td>\n",
       "      <td>Great taffy at a great price.  There was a wid...</td>\n",
       "    </tr>\n",
       "  </tbody>\n",
       "</table>\n",
       "</div>"
      ],
      "text/plain": [
       "   Id   ProductId          UserId                      ProfileName  \\\n",
       "0   1  B001E4KFG0  A3SGXH7AUHU8GW                       delmartian   \n",
       "1   2  B00813GRG4  A1D87F6ZCVE5NK                           dll pa   \n",
       "2   3  B000LQOCH0   ABXLMWJIXXAIN  Natalia Corres \"Natalia Corres\"   \n",
       "3   4  B000UA0QIQ  A395BORC6FGVXV                             Karl   \n",
       "4   5  B006K2ZZ7K  A1UQRSCLF8GW1T    Michael D. Bigham \"M. Wassir\"   \n",
       "\n",
       "   HelpfulnessNumerator  HelpfulnessDenominator  Score        Time  \\\n",
       "0                     1                       1      5  1303862400   \n",
       "1                     0                       0      1  1346976000   \n",
       "2                     1                       1      4  1219017600   \n",
       "3                     3                       3      2  1307923200   \n",
       "4                     0                       0      5  1350777600   \n",
       "\n",
       "                 Summary                                               Text  \n",
       "0  Good Quality Dog Food  I have bought several of the Vitality canned d...  \n",
       "1      Not as Advertised  Product arrived labeled as Jumbo Salted Peanut...  \n",
       "2  \"Delight\" says it all  This is a confection that has been around a fe...  \n",
       "3         Cough Medicine  If you are looking for the secret ingredient i...  \n",
       "4            Great taffy  Great taffy at a great price.  There was a wid...  "
      ]
     },
     "execution_count": 1,
     "metadata": {},
     "output_type": "execute_result"
    }
   ],
   "source": [
    "#Let's import pandas to read the csv file.\n",
    "import pandas as pd\n",
    "dataset = pd.read_csv(\"Reviews.csv\")\n",
    "dataset.head()"
   ]
  },
  {
   "cell_type": "code",
   "execution_count": 2,
   "metadata": {},
   "outputs": [
    {
     "data": {
      "text/html": [
       "<div>\n",
       "<style>\n",
       "    .dataframe thead tr:only-child th {\n",
       "        text-align: right;\n",
       "    }\n",
       "\n",
       "    .dataframe thead th {\n",
       "        text-align: left;\n",
       "    }\n",
       "\n",
       "    .dataframe tbody tr th {\n",
       "        vertical-align: top;\n",
       "    }\n",
       "</style>\n",
       "<table border=\"1\" class=\"dataframe\">\n",
       "  <thead>\n",
       "    <tr style=\"text-align: right;\">\n",
       "      <th></th>\n",
       "      <th>Id</th>\n",
       "      <th>ProductId</th>\n",
       "      <th>UserId</th>\n",
       "      <th>ProfileName</th>\n",
       "      <th>HelpfulnessNumerator</th>\n",
       "      <th>HelpfulnessDenominator</th>\n",
       "      <th>Score</th>\n",
       "      <th>Time</th>\n",
       "      <th>Summary</th>\n",
       "      <th>Text</th>\n",
       "    </tr>\n",
       "  </thead>\n",
       "  <tbody>\n",
       "    <tr>\n",
       "      <th>150523</th>\n",
       "      <td>150524</td>\n",
       "      <td>0006641040</td>\n",
       "      <td>ACITT7DI6IDDL</td>\n",
       "      <td>shari zychinski</td>\n",
       "      <td>0</td>\n",
       "      <td>0</td>\n",
       "      <td>5</td>\n",
       "      <td>939340800</td>\n",
       "      <td>EVERY book is educational</td>\n",
       "      <td>this witty little book makes my son laugh at l...</td>\n",
       "    </tr>\n",
       "    <tr>\n",
       "      <th>150500</th>\n",
       "      <td>150501</td>\n",
       "      <td>0006641040</td>\n",
       "      <td>AJ46FKXOVC7NR</td>\n",
       "      <td>Nicholas A Mesiano</td>\n",
       "      <td>2</td>\n",
       "      <td>2</td>\n",
       "      <td>5</td>\n",
       "      <td>940809600</td>\n",
       "      <td>This whole series is great way to spend time w...</td>\n",
       "      <td>I can remember seeing the show when it aired o...</td>\n",
       "    </tr>\n",
       "    <tr>\n",
       "      <th>451855</th>\n",
       "      <td>451856</td>\n",
       "      <td>B00004CXX9</td>\n",
       "      <td>AIUWLEQ1ADEG5</td>\n",
       "      <td>Elizabeth Medina</td>\n",
       "      <td>0</td>\n",
       "      <td>0</td>\n",
       "      <td>5</td>\n",
       "      <td>944092800</td>\n",
       "      <td>Entertainingl Funny!</td>\n",
       "      <td>Beetlejuice is a well written movie ..... ever...</td>\n",
       "    </tr>\n",
       "    <tr>\n",
       "      <th>230284</th>\n",
       "      <td>230285</td>\n",
       "      <td>B00004RYGX</td>\n",
       "      <td>A344SMIA5JECGM</td>\n",
       "      <td>Vincent P. Ross</td>\n",
       "      <td>1</td>\n",
       "      <td>2</td>\n",
       "      <td>5</td>\n",
       "      <td>944438400</td>\n",
       "      <td>A modern day fairy tale</td>\n",
       "      <td>A twist of rumplestiskin captured on film, sta...</td>\n",
       "    </tr>\n",
       "    <tr>\n",
       "      <th>451877</th>\n",
       "      <td>451878</td>\n",
       "      <td>B00004CXX9</td>\n",
       "      <td>A344SMIA5JECGM</td>\n",
       "      <td>Vincent P. Ross</td>\n",
       "      <td>1</td>\n",
       "      <td>2</td>\n",
       "      <td>5</td>\n",
       "      <td>944438400</td>\n",
       "      <td>A modern day fairy tale</td>\n",
       "      <td>A twist of rumplestiskin captured on film, sta...</td>\n",
       "    </tr>\n",
       "  </tbody>\n",
       "</table>\n",
       "</div>"
      ],
      "text/plain": [
       "            Id   ProductId          UserId         ProfileName  \\\n",
       "150523  150524  0006641040   ACITT7DI6IDDL     shari zychinski   \n",
       "150500  150501  0006641040   AJ46FKXOVC7NR  Nicholas A Mesiano   \n",
       "451855  451856  B00004CXX9   AIUWLEQ1ADEG5    Elizabeth Medina   \n",
       "230284  230285  B00004RYGX  A344SMIA5JECGM     Vincent P. Ross   \n",
       "451877  451878  B00004CXX9  A344SMIA5JECGM     Vincent P. Ross   \n",
       "\n",
       "        HelpfulnessNumerator  HelpfulnessDenominator  Score       Time  \\\n",
       "150523                     0                       0      5  939340800   \n",
       "150500                     2                       2      5  940809600   \n",
       "451855                     0                       0      5  944092800   \n",
       "230284                     1                       2      5  944438400   \n",
       "451877                     1                       2      5  944438400   \n",
       "\n",
       "                                                  Summary  \\\n",
       "150523                          EVERY book is educational   \n",
       "150500  This whole series is great way to spend time w...   \n",
       "451855                               Entertainingl Funny!   \n",
       "230284                            A modern day fairy tale   \n",
       "451877                            A modern day fairy tale   \n",
       "\n",
       "                                                     Text  \n",
       "150523  this witty little book makes my son laugh at l...  \n",
       "150500  I can remember seeing the show when it aired o...  \n",
       "451855  Beetlejuice is a well written movie ..... ever...  \n",
       "230284  A twist of rumplestiskin captured on film, sta...  \n",
       "451877  A twist of rumplestiskin captured on film, sta...  "
      ]
     },
     "execution_count": 2,
     "metadata": {},
     "output_type": "execute_result"
    }
   ],
   "source": [
    "#Here we will sort the dataframe according to 'Time' feature\n",
    "dataset.sort_values(['Time'], ascending=True, inplace=True)\n",
    "dataset.head()"
   ]
  },
  {
   "cell_type": "code",
   "execution_count": 3,
   "metadata": {
    "scrolled": true
   },
   "outputs": [
    {
     "data": {
      "text/html": [
       "<div>\n",
       "<style>\n",
       "    .dataframe thead tr:only-child th {\n",
       "        text-align: right;\n",
       "    }\n",
       "\n",
       "    .dataframe thead th {\n",
       "        text-align: left;\n",
       "    }\n",
       "\n",
       "    .dataframe tbody tr th {\n",
       "        vertical-align: top;\n",
       "    }\n",
       "</style>\n",
       "<table border=\"1\" class=\"dataframe\">\n",
       "  <thead>\n",
       "    <tr style=\"text-align: right;\">\n",
       "      <th></th>\n",
       "      <th>UserId</th>\n",
       "      <th>Score</th>\n",
       "      <th>Summary</th>\n",
       "      <th>Text</th>\n",
       "    </tr>\n",
       "  </thead>\n",
       "  <tbody>\n",
       "    <tr>\n",
       "      <th>150523</th>\n",
       "      <td>ACITT7DI6IDDL</td>\n",
       "      <td>5</td>\n",
       "      <td>EVERY book is educational</td>\n",
       "      <td>this witty little book makes my son laugh at l...</td>\n",
       "    </tr>\n",
       "    <tr>\n",
       "      <th>150500</th>\n",
       "      <td>AJ46FKXOVC7NR</td>\n",
       "      <td>5</td>\n",
       "      <td>This whole series is great way to spend time w...</td>\n",
       "      <td>I can remember seeing the show when it aired o...</td>\n",
       "    </tr>\n",
       "    <tr>\n",
       "      <th>451855</th>\n",
       "      <td>AIUWLEQ1ADEG5</td>\n",
       "      <td>5</td>\n",
       "      <td>Entertainingl Funny!</td>\n",
       "      <td>Beetlejuice is a well written movie ..... ever...</td>\n",
       "    </tr>\n",
       "    <tr>\n",
       "      <th>230284</th>\n",
       "      <td>A344SMIA5JECGM</td>\n",
       "      <td>5</td>\n",
       "      <td>A modern day fairy tale</td>\n",
       "      <td>A twist of rumplestiskin captured on film, sta...</td>\n",
       "    </tr>\n",
       "    <tr>\n",
       "      <th>451877</th>\n",
       "      <td>A344SMIA5JECGM</td>\n",
       "      <td>5</td>\n",
       "      <td>A modern day fairy tale</td>\n",
       "      <td>A twist of rumplestiskin captured on film, sta...</td>\n",
       "    </tr>\n",
       "  </tbody>\n",
       "</table>\n",
       "</div>"
      ],
      "text/plain": [
       "                UserId  Score  \\\n",
       "150523   ACITT7DI6IDDL      5   \n",
       "150500   AJ46FKXOVC7NR      5   \n",
       "451855   AIUWLEQ1ADEG5      5   \n",
       "230284  A344SMIA5JECGM      5   \n",
       "451877  A344SMIA5JECGM      5   \n",
       "\n",
       "                                                  Summary  \\\n",
       "150523                          EVERY book is educational   \n",
       "150500  This whole series is great way to spend time w...   \n",
       "451855                               Entertainingl Funny!   \n",
       "230284                            A modern day fairy tale   \n",
       "451877                            A modern day fairy tale   \n",
       "\n",
       "                                                     Text  \n",
       "150523  this witty little book makes my son laugh at l...  \n",
       "150500  I can remember seeing the show when it aired o...  \n",
       "451855  Beetlejuice is a well written movie ..... ever...  \n",
       "230284  A twist of rumplestiskin captured on film, sta...  \n",
       "451877  A twist of rumplestiskin captured on film, sta...  "
      ]
     },
     "execution_count": 3,
     "metadata": {},
     "output_type": "execute_result"
    }
   ],
   "source": [
    "#Dropping the unwanted columns from our data frame.\n",
    "dataset.drop(\"Id\", inplace=True, axis=1)\n",
    "dataset.drop(\"ProductId\", inplace=True, axis=1)\n",
    "dataset.drop(\"ProfileName\", inplace=True, axis=1)\n",
    "dataset.drop(\"HelpfulnessNumerator\", inplace=True, axis=1)\n",
    "dataset.drop(\"HelpfulnessDenominator\", inplace=True, axis=1)\n",
    "dataset.drop(\"Time\", inplace=True, axis=1)\n",
    "dataset.head()"
   ]
  },
  {
   "cell_type": "code",
   "execution_count": 4,
   "metadata": {
    "collapsed": true
   },
   "outputs": [],
   "source": [
    "#Make all 'Score' less than 3 equal to -ve class and \n",
    "# 'Score' greater than 3 equal to +ve class.\n",
    "dataset.loc[dataset['Score']<3, 'Score'] = [0]\n",
    "dataset.loc[dataset['Score']>3, 'Score'] = [1]"
   ]
  },
  {
   "cell_type": "code",
   "execution_count": 5,
   "metadata": {
    "scrolled": true
   },
   "outputs": [
    {
     "data": {
      "text/html": [
       "<div>\n",
       "<style>\n",
       "    .dataframe thead tr:only-child th {\n",
       "        text-align: right;\n",
       "    }\n",
       "\n",
       "    .dataframe thead th {\n",
       "        text-align: left;\n",
       "    }\n",
       "\n",
       "    .dataframe tbody tr th {\n",
       "        vertical-align: top;\n",
       "    }\n",
       "</style>\n",
       "<table border=\"1\" class=\"dataframe\">\n",
       "  <thead>\n",
       "    <tr style=\"text-align: right;\">\n",
       "      <th></th>\n",
       "      <th>UserId</th>\n",
       "      <th>Score</th>\n",
       "      <th>Summary</th>\n",
       "      <th>Text</th>\n",
       "    </tr>\n",
       "  </thead>\n",
       "  <tbody>\n",
       "    <tr>\n",
       "      <th>150523</th>\n",
       "      <td>ACITT7DI6IDDL</td>\n",
       "      <td>1</td>\n",
       "      <td>EVERY book is educational</td>\n",
       "      <td>this witty little book makes my son laugh at l...</td>\n",
       "    </tr>\n",
       "    <tr>\n",
       "      <th>150500</th>\n",
       "      <td>AJ46FKXOVC7NR</td>\n",
       "      <td>1</td>\n",
       "      <td>This whole series is great way to spend time w...</td>\n",
       "      <td>I can remember seeing the show when it aired o...</td>\n",
       "    </tr>\n",
       "    <tr>\n",
       "      <th>451855</th>\n",
       "      <td>AIUWLEQ1ADEG5</td>\n",
       "      <td>1</td>\n",
       "      <td>Entertainingl Funny!</td>\n",
       "      <td>Beetlejuice is a well written movie ..... ever...</td>\n",
       "    </tr>\n",
       "    <tr>\n",
       "      <th>230284</th>\n",
       "      <td>A344SMIA5JECGM</td>\n",
       "      <td>1</td>\n",
       "      <td>A modern day fairy tale</td>\n",
       "      <td>A twist of rumplestiskin captured on film, sta...</td>\n",
       "    </tr>\n",
       "    <tr>\n",
       "      <th>451877</th>\n",
       "      <td>A344SMIA5JECGM</td>\n",
       "      <td>1</td>\n",
       "      <td>A modern day fairy tale</td>\n",
       "      <td>A twist of rumplestiskin captured on film, sta...</td>\n",
       "    </tr>\n",
       "  </tbody>\n",
       "</table>\n",
       "</div>"
      ],
      "text/plain": [
       "                UserId  Score  \\\n",
       "150523   ACITT7DI6IDDL      1   \n",
       "150500   AJ46FKXOVC7NR      1   \n",
       "451855   AIUWLEQ1ADEG5      1   \n",
       "230284  A344SMIA5JECGM      1   \n",
       "451877  A344SMIA5JECGM      1   \n",
       "\n",
       "                                                  Summary  \\\n",
       "150523                          EVERY book is educational   \n",
       "150500  This whole series is great way to spend time w...   \n",
       "451855                               Entertainingl Funny!   \n",
       "230284                            A modern day fairy tale   \n",
       "451877                            A modern day fairy tale   \n",
       "\n",
       "                                                     Text  \n",
       "150523  this witty little book makes my son laugh at l...  \n",
       "150500  I can remember seeing the show when it aired o...  \n",
       "451855  Beetlejuice is a well written movie ..... ever...  \n",
       "230284  A twist of rumplestiskin captured on film, sta...  \n",
       "451877  A twist of rumplestiskin captured on film, sta...  "
      ]
     },
     "execution_count": 5,
     "metadata": {},
     "output_type": "execute_result"
    }
   ],
   "source": [
    "dataset.head()"
   ]
  },
  {
   "cell_type": "code",
   "execution_count": 6,
   "metadata": {
    "collapsed": true
   },
   "outputs": [],
   "source": [
    "#import numpy as np\n",
    "#from sklearn.model_selection import train_test_split\n",
    "#train, test = train_test_split(dataset, test_size = 0.3)\n",
    "\n",
    "total_size=len(dataset)\n",
    "\n",
    "train_size=int(0.70*total_size)\n",
    "\n",
    "#training dataset\n",
    "train=dataset.head(train_size)\n",
    "#test dataset\n",
    "test=dataset.tail(total_size - train_size)"
   ]
  },
  {
   "cell_type": "code",
   "execution_count": 7,
   "metadata": {},
   "outputs": [
    {
     "data": {
      "text/plain": [
       "1    313696\n",
       "0     55168\n",
       "3     29053\n",
       "Name: Score, dtype: int64"
      ]
     },
     "execution_count": 7,
     "metadata": {},
     "output_type": "execute_result"
    }
   ],
   "source": [
    "train.Score.value_counts()"
   ]
  },
  {
   "cell_type": "code",
   "execution_count": 8,
   "metadata": {},
   "outputs": [
    {
     "data": {
      "text/plain": [
       "1    130081\n",
       "0     26869\n",
       "3     13587\n",
       "Name: Score, dtype: int64"
      ]
     },
     "execution_count": 8,
     "metadata": {},
     "output_type": "execute_result"
    }
   ],
   "source": [
    "test.Score.value_counts()"
   ]
  },
  {
   "cell_type": "code",
   "execution_count": 9,
   "metadata": {
    "collapsed": true
   },
   "outputs": [],
   "source": [
    "# Removing all rows where 'Score' is equal to 3\n",
    "train = train[train.Score != 3]\n",
    "test = test[test.Score != 3]"
   ]
  },
  {
   "cell_type": "code",
   "execution_count": 10,
   "metadata": {},
   "outputs": [
    {
     "name": "stdout",
     "output_type": "stream",
     "text": [
      "(368864, 4)\n",
      "(156950, 4)\n"
     ]
    }
   ],
   "source": [
    "print(train.shape)\n",
    "print(test.shape)"
   ]
  },
  {
   "cell_type": "code",
   "execution_count": 11,
   "metadata": {
    "scrolled": true
   },
   "outputs": [
    {
     "data": {
      "text/plain": [
       "1    313696\n",
       "0     55168\n",
       "Name: Score, dtype: int64"
      ]
     },
     "execution_count": 11,
     "metadata": {},
     "output_type": "execute_result"
    }
   ],
   "source": [
    "train['Score'].value_counts()"
   ]
  },
  {
   "cell_type": "code",
   "execution_count": 12,
   "metadata": {},
   "outputs": [
    {
     "data": {
      "text/plain": [
       "1    130081\n",
       "0     26869\n",
       "Name: Score, dtype: int64"
      ]
     },
     "execution_count": 12,
     "metadata": {},
     "output_type": "execute_result"
    }
   ],
   "source": [
    "test.Score.value_counts()"
   ]
  },
  {
   "cell_type": "markdown",
   "metadata": {},
   "source": [
    "## STEP-2: Text Preprocessing"
   ]
  },
  {
   "cell_type": "markdown",
   "metadata": {},
   "source": [
    "Text preprocessing will further contain a sequence of steps:\n",
    "    1. Converting to lower-case.\n",
    "    2. Removing HTML Tags.\n",
    "    3. Removing Special Characters.\n",
    "    4. Removing Stop Words.\n",
    "    5. Stemming (Snowball Stemming)"
   ]
  },
  {
   "cell_type": "code",
   "execution_count": 13,
   "metadata": {
    "collapsed": true
   },
   "outputs": [],
   "source": [
    "#Taking the 'Text' & 'Summary' column in seperate list for further \n",
    "#text preprocessing.\n",
    "lst_text = train['Text'].tolist()\n",
    "lst_summary = train['Summary'].tolist()"
   ]
  },
  {
   "cell_type": "code",
   "execution_count": 14,
   "metadata": {
    "collapsed": true
   },
   "outputs": [],
   "source": [
    "test_text = test['Text'].tolist()"
   ]
  },
  {
   "cell_type": "markdown",
   "metadata": {},
   "source": [
    "### Converting to lower-case"
   ]
  },
  {
   "cell_type": "code",
   "execution_count": 15,
   "metadata": {
    "collapsed": true
   },
   "outputs": [],
   "source": [
    "#Converting the whole list to lower-case.\n",
    "lst_text = [str(item).lower() for item in lst_text]\n",
    "lst_summary = [str(item).lower() for item in lst_summary]"
   ]
  },
  {
   "cell_type": "code",
   "execution_count": 16,
   "metadata": {
    "collapsed": true
   },
   "outputs": [],
   "source": [
    "test_text = [str(item).lower() for item in test_text]"
   ]
  },
  {
   "cell_type": "markdown",
   "metadata": {},
   "source": [
    "### Removing HTML Tags"
   ]
  },
  {
   "cell_type": "code",
   "execution_count": 17,
   "metadata": {
    "collapsed": true
   },
   "outputs": [],
   "source": [
    "#Lets now remove all HTML tags from the list of strings.\n",
    "import re\n",
    "def striphtml(data):\n",
    "    p = re.compile(r'<.*?>')\n",
    "    return p.sub('', data)\n",
    "\n",
    "for i in range(len(lst_text)):\n",
    "    lst_text[i] = striphtml(lst_text[i])\n",
    "    lst_summary[i] = striphtml(lst_summary[i])"
   ]
  },
  {
   "cell_type": "code",
   "execution_count": 18,
   "metadata": {
    "collapsed": true
   },
   "outputs": [],
   "source": [
    "for i in range(len(test_text)):\n",
    "    test_text[i] = striphtml(test_text[i])"
   ]
  },
  {
   "cell_type": "code",
   "execution_count": 19,
   "metadata": {},
   "outputs": [
    {
     "data": {
      "text/plain": [
       "[\"this witty little book makes my son laugh at loud. i recite it in the car as we're driving along and he always can sing the refrain. he's learned about whales, india, drooping roses:  i love all the new words this book  introduces and the silliness of it all.  this is a classic book i am  willing to bet my son will still be able to recite from memory when he is  in college\",\n",
       " \"i can remember seeing the show when it aired on television years ago, when i was a child.  my sister later bought me the lp (which i have to this day,  i'm thirty something).i used this series of books &amp; songs when i did my  student teaching for preschoolers &amp; turned the whole school on to it.  i am now purchasing it on cd, along with the books for my children 5 &amp;  2.  the tradition lives on!\",\n",
       " 'beetlejuice is a well written movie ..... everything about it is excellent! from the acting to the special effects you will be delighted you chose to view this movie.',\n",
       " \"a twist of rumplestiskin captured on film, starring michael keaton and geena davis in their prime.  tim burton's masterpiece, rumbles with absurdity, and is wonderfully paced to the point where there is not a dull  moment.\",\n",
       " \"a twist of rumplestiskin captured on film, starring michael keaton and geena davis in their prime.  tim burton's masterpiece, rumbles with absurdity, and is wonderfully paced to the point where there is not a dull  moment.\"]"
      ]
     },
     "execution_count": 19,
     "metadata": {},
     "output_type": "execute_result"
    }
   ],
   "source": [
    "lst_text[0:5]"
   ]
  },
  {
   "cell_type": "markdown",
   "metadata": {},
   "source": [
    "### Removing Special Characters"
   ]
  },
  {
   "cell_type": "code",
   "execution_count": 20,
   "metadata": {
    "collapsed": true
   },
   "outputs": [],
   "source": [
    "#Now we will remove all special characters from the strings.\n",
    "for i in range(len(lst_text)):\n",
    "    lst_text[i] = re.sub(r'[^A-Za-z]+', ' ', lst_text[i])\n",
    "    lst_summary[i] = re.sub(r'[^A-Za-z]+', ' ', lst_summary[i])"
   ]
  },
  {
   "cell_type": "code",
   "execution_count": 21,
   "metadata": {
    "collapsed": true
   },
   "outputs": [],
   "source": [
    "for i in range(len(test_text)):\n",
    "    test_text[i] = re.sub(r'[^A-Za-z]+', ' ', test_text[i])"
   ]
  },
  {
   "cell_type": "code",
   "execution_count": 22,
   "metadata": {},
   "outputs": [
    {
     "data": {
      "text/plain": [
       "['this witty little book makes my son laugh at loud i recite it in the car as we re driving along and he always can sing the refrain he s learned about whales india drooping roses i love all the new words this book introduces and the silliness of it all this is a classic book i am willing to bet my son will still be able to recite from memory when he is in college',\n",
       " 'i can remember seeing the show when it aired on television years ago when i was a child my sister later bought me the lp which i have to this day i m thirty something i used this series of books amp songs when i did my student teaching for preschoolers amp turned the whole school on to it i am now purchasing it on cd along with the books for my children amp the tradition lives on ',\n",
       " 'beetlejuice is a well written movie everything about it is excellent from the acting to the special effects you will be delighted you chose to view this movie ',\n",
       " 'a twist of rumplestiskin captured on film starring michael keaton and geena davis in their prime tim burton s masterpiece rumbles with absurdity and is wonderfully paced to the point where there is not a dull moment ',\n",
       " 'a twist of rumplestiskin captured on film starring michael keaton and geena davis in their prime tim burton s masterpiece rumbles with absurdity and is wonderfully paced to the point where there is not a dull moment ']"
      ]
     },
     "execution_count": 22,
     "metadata": {},
     "output_type": "execute_result"
    }
   ],
   "source": [
    "lst_text[0:5]"
   ]
  },
  {
   "cell_type": "markdown",
   "metadata": {},
   "source": [
    "### Removing Stop Words"
   ]
  },
  {
   "cell_type": "code",
   "execution_count": 23,
   "metadata": {
    "collapsed": true
   },
   "outputs": [],
   "source": [
    "#Removing Stop Words\n",
    "from nltk.corpus import stopwords\n",
    "from nltk.tokenize import word_tokenize\n",
    "#word_tokenize accepts a string as an input, not a file.\n",
    "stop_words = set(stopwords.words('english'))\n",
    "for i in range(len(lst_text)):\n",
    "    text_filtered = []\n",
    "    summary_filtered = []\n",
    "    text_word_tokens = []\n",
    "    summary_word_tokens = []\n",
    "    text_word_tokens = lst_text[i].split()\n",
    "    summary_word_tokens = lst_summary[i].split()\n",
    "    for r in text_word_tokens:\n",
    "        if not r in stop_words:\n",
    "            text_filtered.append(r)\n",
    "    lst_text[i] = ' '.join(text_filtered)\n",
    "    for r in summary_word_tokens:\n",
    "        if not r in stop_words:\n",
    "            summary_filtered.append(r)\n",
    "    lst_summary[i] = ' '.join(summary_filtered)"
   ]
  },
  {
   "cell_type": "code",
   "execution_count": 24,
   "metadata": {
    "collapsed": true
   },
   "outputs": [],
   "source": [
    "for i in range(len(test_text)):\n",
    "    text_filtered = []\n",
    "    text_word_tokens = []\n",
    "    text_word_tokens = test_text[i].split()\n",
    "    for r in text_word_tokens:\n",
    "        if not r in stop_words:\n",
    "            text_filtered.append(r)\n",
    "    test_text[i] = ' '.join(text_filtered)"
   ]
  },
  {
   "cell_type": "markdown",
   "metadata": {},
   "source": [
    "### Stemming"
   ]
  },
  {
   "cell_type": "markdown",
   "metadata": {},
   "source": [
    "The <b>three major stemming algorithms</b> in use today are Porter, Snowball(Porter2), and Lancaster (Paice-Husk), with the aggressiveness continuum basically following along those same lines.\n",
    "\n",
    "<b>Porter:</b> Most commonly used stemmer without a doubt, also one of the most gentle stemmers. One of the few stemmers that actually has Java support which is a plus, though it is also the most computationally intensive of the algorithms(Granted not by a very significant margin). It is also the oldest stemming algorithm by a large margin.\n",
    "\n",
    "<b>Snowball:</b> Nearly universally regarded as an improvement over porter, and for good reason. Porter himself in fact admits that it is better than his original algorithm. Slightly faster computation time than porter, with a fairly large community around it.\n",
    "\n",
    "<b>Lancaster:</b> Very aggressive stemming algorithm, sometimes to a fault. With porter and snowball, the stemmed representations are usually fairly intuitive to a reader, not so with Lancaster, as many shorter words will become totally obfuscated. The fastest algorithm here, and will reduce your working set of words hugely, but if you want more distinction, not the tool you would want."
   ]
  },
  {
   "cell_type": "markdown",
   "metadata": {},
   "source": [
    "### Snowball Stemming"
   ]
  },
  {
   "cell_type": "code",
   "execution_count": 25,
   "metadata": {
    "collapsed": true
   },
   "outputs": [],
   "source": [
    "#Lets now stem each word.\n",
    "from nltk.stem.snowball import SnowballStemmer\n",
    "stemmer = SnowballStemmer(\"english\")\n",
    "for i in range(len(lst_text)):\n",
    "    text_filtered = []\n",
    "    summary_filtered = []\n",
    "    text_word_tokens = []\n",
    "    summary_word_tokens = []\n",
    "    text_word_tokens = lst_text[i].split()\n",
    "    summary_word_tokens = lst_summary[i].split()\n",
    "    for r in text_word_tokens:\n",
    "        text_filtered.append(str(stemmer.stem(r)))\n",
    "    lst_text[i] = ' '.join(text_filtered)\n",
    "    for r in summary_word_tokens:\n",
    "        summary_filtered.append(str(stemmer.stem(r)))\n",
    "    lst_summary[i] = ' '.join(summary_filtered)"
   ]
  },
  {
   "cell_type": "code",
   "execution_count": 26,
   "metadata": {
    "collapsed": true
   },
   "outputs": [],
   "source": [
    "for i in range(len(test_text)):\n",
    "    text_filtered = []\n",
    "    text_word_tokens = []\n",
    "    text_word_tokens = test_text[i].split()\n",
    "    for r in text_word_tokens:\n",
    "        if not r in stop_words:\n",
    "            text_filtered.append(str(stemmer.stem(r)))\n",
    "    test_text[i] = ' '.join(text_filtered)"
   ]
  },
  {
   "cell_type": "code",
   "execution_count": 27,
   "metadata": {},
   "outputs": [
    {
     "data": {
      "text/plain": [
       "['witti littl book make son laugh loud recit car drive along alway sing refrain learn whale india droop rose love new word book introduc silli classic book will bet son still abl recit memori colleg',\n",
       " 'rememb see show air televis year ago child sister later bought lp day thirti someth use seri book amp song student teach preschool amp turn whole school purchas cd along book children amp tradit live',\n",
       " 'beetlejuic well written movi everyth excel act special effect delight chose view movi',\n",
       " 'twist rumplestiskin captur film star michael keaton geena davi prime tim burton masterpiec rumbl absurd wonder pace point dull moment',\n",
       " 'twist rumplestiskin captur film star michael keaton geena davi prime tim burton masterpiec rumbl absurd wonder pace point dull moment']"
      ]
     },
     "execution_count": 27,
     "metadata": {},
     "output_type": "execute_result"
    }
   ],
   "source": [
    "lst_text[0:5]"
   ]
  },
  {
   "cell_type": "code",
   "execution_count": 28,
   "metadata": {},
   "outputs": [
    {
     "data": {
      "text/plain": [
       "['love make smoothi chocol protein powder peanut butter banana pb drove calori way calori tbsp pb powder calori tbsp tast realli great',\n",
       " 'smooth impli weak robust impli bitter neither true negat true wonder complex simpl cup joe pleas',\n",
       " 'alway hate instant oatmeal like old fashion thick cut roll oat like steel cut whenev tri instant version oatmeal past found entir ined thin wateri textur real oatmeal flavor mcdougal oatmeal cup close real thing bare differ initi tri order pack favorit flavor realli happi breakfast everi morn oatmeal tea issu small amount soy use fresh prefer use someth els least sure soy organ find coupl rancid cup batch need sure fresh overal great product though',\n",
       " 'tri creamer like caramel flavor coffe like creamer whether like matter person prefer detect caramel tast one sip enough due overwhelm sweet tast like someon drop dozen tablespoon sugar coffe like extrem sweet coffe care caramel flavor might like product main want caramel flavor would better caramel syrup flavor coffe bean',\n",
       " 'recommend pretti savvi dog owner third larg bag purchas incred price dog healthi rin tin tin']"
      ]
     },
     "execution_count": 28,
     "metadata": {},
     "output_type": "execute_result"
    }
   ],
   "source": [
    "test_text[0:5]"
   ]
  },
  {
   "cell_type": "markdown",
   "metadata": {},
   "source": [
    "## STEP-3: Vectorizing our dataset"
   ]
  },
  {
   "cell_type": "markdown",
   "metadata": {},
   "source": [
    "\n",
    "\n",
    "From the scikit-learn documentation:\n",
    "\n",
    "    Text Analysis is a major application field for machine learning algorithms. However the raw data, a sequence of symbols cannot be fed directly to the algorithms themselves as most of them expect numerical feature vectors with a fixed size rather than the raw text documents with variable length.\n",
    "    \n",
    "    We call vectorization the general process of turning a collection of text documents into numerical feature vectors. This specific strategy (tokenization, counting and normalization) is called the Bag of Words or \"Bag of n-grams\" representation. Documents are described by word occurrences while completely ignoring the relative position information of the words in the document.\n",
    "\n",
    "We will use CountVectorizer to \"convert text into a matrix of token counts\"."
   ]
  },
  {
   "cell_type": "code",
   "execution_count": 29,
   "metadata": {
    "collapsed": true
   },
   "outputs": [],
   "source": [
    "from sklearn.feature_extraction.text import CountVectorizer\n",
    "\n",
    "# Initialize the \"CountVectorizer\" object, which is scikit-learn's\n",
    "# bag of words tool.\n",
    "vect = CountVectorizer()\n",
    "# fit_transform() does two functions: First, it fits the model\n",
    "# and learns the vocabulary; second, it transforms our training data\n",
    "# into feature vectors. The input to fit_transform should be a list of \n",
    "# strings.\n",
    "X_train_dtm = vect.fit_transform(lst_text)\n",
    "# Numpy arrays are easy to work with, so convert the result to an \n",
    "# array\n",
    "#train_data_features = train_data_features.toarray()"
   ]
  },
  {
   "cell_type": "code",
   "execution_count": 30,
   "metadata": {},
   "outputs": [
    {
     "data": {
      "text/plain": [
       "<368864x71178 sparse matrix of type '<type 'numpy.int64'>'\n",
       "\twith 11579336 stored elements in Compressed Sparse Row format>"
      ]
     },
     "execution_count": 30,
     "metadata": {},
     "output_type": "execute_result"
    }
   ],
   "source": [
    "# examine the document-term matrix\n",
    "X_train_dtm"
   ]
  },
  {
   "cell_type": "markdown",
   "metadata": {},
   "source": [
    "In order to <b>make a prediction</b>, the new observation <b>must have the same features as the training observations</b>, both in number and meaning."
   ]
  },
  {
   "cell_type": "code",
   "execution_count": 31,
   "metadata": {
    "scrolled": true
   },
   "outputs": [
    {
     "data": {
      "text/plain": [
       "<156950x71178 sparse matrix of type '<type 'numpy.int64'>'\n",
       "\twith 5017739 stored elements in Compressed Sparse Row format>"
      ]
     },
     "execution_count": 31,
     "metadata": {},
     "output_type": "execute_result"
    }
   ],
   "source": [
    "# transform testing data (using fitted vocabulary) into a document-term matrix\n",
    "X_test_dtm = vect.transform(test_text)\n",
    "X_test_dtm"
   ]
  },
  {
   "cell_type": "markdown",
   "metadata": {},
   "source": [
    "<b>Summary:</b>\n",
    "<ul>\n",
    "    <li> <code>vect.fit(lst_text)</code> <b>learns the vocabulary</b> of the training data\n",
    "    <li> <code>vect.transform(lst_text)</code> <b>uses the fitted vocabulary</b> to build a <b>document-term matrix</b> from the training data\n",
    "    <li> <code>vect.transform(test_text)</code> <b>uses the fitted vocabulary</b> to build a document-term matrix from the testing data (and <b>ignores tokens</b> it hasn't seen before)\n",
    "</ul>\n",
    "\n"
   ]
  },
  {
   "cell_type": "markdown",
   "metadata": {},
   "source": [
    "## STEP-4: Building and evaluating the model"
   ]
  },
  {
   "cell_type": "markdown",
   "metadata": {},
   "source": [
    "### Models"
   ]
  },
  {
   "cell_type": "markdown",
   "metadata": {},
   "source": [
    "Here we will be implementing various models and comparing their accuracies. We would be implementing below mentioned machine learning algorithms:\n",
    "<ul>\n",
    "<li>Naive Bayes\n",
    "<li>Logistic Regression - with L1 and L2 regularizors\n",
    "<li>Linear SVM\n",
    "<li>RBF Kernel SVM\n",
    "</ul>"
   ]
  },
  {
   "cell_type": "markdown",
   "metadata": {},
   "source": [
    "### Evaluation Metrics"
   ]
  },
  {
   "cell_type": "markdown",
   "metadata": {},
   "source": [
    "<b>What is the Confusion Mattix?</b><br />\n",
    "A confusion matrix is a table that is often used to describe the performance of a classification model (or \"classifier\") on a set of test data for which the true values are known. The confusion matrix itself is relatively simple to understand, but the related terminology can be confusing.<br />\n",
    "<img src=\"con_matrix.png\" />\n",
    "\n",
    "Let's now define the most basic terms, which are whole numbers (not rates):<br />\n",
    "<pre>\n",
    "    <b>true positives (TP)</b>: These are cases in which we predicted yes (they have the disease), and they do have the disease.\n",
    "    <b>true negatives (TN)</b>: We predicted no, and they don't have the disease.\n",
    "    <b>false positives (FP)</b>: We predicted yes, but they don't actually have the disease. (Also known as a \"Type I error.\")\n",
    "    <b>false negatives (FN)</b>: We predicted no, but they actually do have the disease. (Also known as a \"Type II error.\")\n",
    "</pre>\n",
    "<br /><br />\n",
    "Various Evaluation metrics are:<br />\n",
    "<b>Accuracy</b>: Overall, how often is the classifier correct? Accuracy works best if false positives and false negatives have similar cost. This fails in case of imbalanced dataset. For that we have other metrics, like Precision and Recall.<br />\n",
    "Accuracy = TP+TN/TP+FP+FN+TN\n",
    "<br />\n",
    "<b>True Positive Rate</b>: When it's actually yes, how often does it predict yes? Also known as \"Sensitivity\" or <b>\"Recall\"</b><br />\n",
    "<b>False Positive Rate</b>: When it's actually no, how often does it predict yes?<br />\n",
    "<b>F1 Score</b>: This is a weighted average of the true positive rate (recall) and precision.<br />\n",
    "<b>ROC Curve</b>: This is a commonly used graph that summarizes the performance of a classifier over all possible thresholds. It is generated by plotting the True Positive Rate (y-axis) against the False Positive Rate (x-axis) as you vary the threshold for assigning observations to a given class. <br />\n",
    "<b>Log-loss</b>: It is usefull in comparing two models. For a perfect Classifier log-loss=0. For a incorrect classifier log-loss=infinity.<br />\n",
    "\n",
    "<b>Precision (P)</b> is defined as the number of true positives (TP) over the number of true positives plus the number of false positives (FP).<br />\n",
    "Precision = TP/TP+FP\n",
    "\n",
    "<b>Recall (R)</b> is defined as the number of true positives (TP) over the number of true positives plus the number of false negatives (FP).<br />\n",
    "Recall = TP/TP+FN\n",
    "\n",
    "These quantities are also related to the <b>F1 score</b>, which is defined as the harmonic mean of precision and recall. Intuitively it is not as easy to understand as accuracy, but F1 is usually more useful than accuracy, especially if you have an uneven class distribution.<br />\n",
    "F1 Score = 2*(Recall * Precision) / (Recall + Precision)\n",
    "\n",
    "Precision-Recall is a useful measure of success of prediction when the classes are very imbalanced. In information retrieval, precision is a measure of result relevancy, while recall is a measure of how many truly relevant results are returned. Note the below mentioned points: <br />\n",
    "<ul>\n",
    "<li>High scores for both show that the classifier is returning accurate results (high precision), as well as returning a majority of all positive results (high recall).<br />\n",
    "<li>A system with high recall but low precision returns many results, but most of its predicted labels are incorrect when compared to the training labels. <br />\n",
    "<li>A system with high precision but low recall is just the opposite, returning very few results, but most of its predicted labels are correct when compared to the training labels. <br />\n",
    "<li>An ideal system with high precision and high recall will return many results, with all results labeled correctly.<br />\n",
    "</ul>"
   ]
  },
  {
   "cell_type": "markdown",
   "metadata": {},
   "source": [
    "### Multinomial Naive Bayes"
   ]
  },
  {
   "cell_type": "markdown",
   "metadata": {},
   "source": [
    "We will use <b>Multinomial Naive Bayes</b>:\n",
    "\n",
    "The multinomial Naive Bayes classifier is suitable for classification with discrete features (e.g., word counts for text classification). The multinomial distribution normally requires integer feature counts. However, in practice, fractional counts such as tf-idf may also work.\n"
   ]
  },
  {
   "cell_type": "code",
   "execution_count": 32,
   "metadata": {
    "collapsed": true
   },
   "outputs": [],
   "source": [
    "# import and instantiate a Multinomial Naive Bayes model\n",
    "from sklearn.naive_bayes import MultinomialNB\n",
    "nb = MultinomialNB()"
   ]
  },
  {
   "cell_type": "code",
   "execution_count": 33,
   "metadata": {},
   "outputs": [
    {
     "name": "stdout",
     "output_type": "stream",
     "text": [
      "Wall time: 157 ms\n"
     ]
    },
    {
     "data": {
      "text/plain": [
       "MultinomialNB(alpha=1.0, class_prior=None, fit_prior=True)"
      ]
     },
     "execution_count": 33,
     "metadata": {},
     "output_type": "execute_result"
    }
   ],
   "source": [
    "# train the model using X_train_dtm (timing it with an IPython \n",
    "#\"magic command\")\n",
    "%time nb.fit(X_train_dtm, train.Score)"
   ]
  },
  {
   "cell_type": "code",
   "execution_count": 34,
   "metadata": {
    "collapsed": true
   },
   "outputs": [],
   "source": [
    "# make class predictions for X_test_dtm\n",
    "y_pred_class_nb = nb.predict(X_test_dtm)"
   ]
  },
  {
   "cell_type": "code",
   "execution_count": 35,
   "metadata": {},
   "outputs": [
    {
     "data": {
      "text/plain": [
       "0.89497929276839761"
      ]
     },
     "execution_count": 35,
     "metadata": {},
     "output_type": "execute_result"
    }
   ],
   "source": [
    "# calculate accuracy of class predictions\n",
    "from sklearn import metrics\n",
    "metrics.accuracy_score(test.Score, y_pred_class_nb)"
   ]
  },
  {
   "cell_type": "code",
   "execution_count": 36,
   "metadata": {},
   "outputs": [
    {
     "data": {
      "text/plain": [
       "array([[ 17759,   9110],\n",
       "       [  7373, 122708]])"
      ]
     },
     "execution_count": 36,
     "metadata": {},
     "output_type": "execute_result"
    }
   ],
   "source": [
    "# print the confusion matrix\n",
    "con_metrics_nb = metrics.confusion_matrix(test.Score, y_pred_class_nb)\n",
    "con_metrics_nb"
   ]
  },
  {
   "cell_type": "code",
   "execution_count": 37,
   "metadata": {
    "scrolled": false
   },
   "outputs": [
    {
     "data": {
      "image/png": "[encoded data removed]",
      "text/plain": [
       "<matplotlib.figure.Figure at 0x17db5c18>"
      ]
     },
     "metadata": {},
     "output_type": "display_data"
    }
   ],
   "source": [
    "#ploting heatmap for confusion matrix\n",
    "import seaborn as sns\n",
    "import matplotlib.pyplot as plt\n",
    "sns.heatmap(con_metrics_nb, annot=True, fmt='d')\n",
    "plt.title(\"Confusion Matrix: Naive Bayes\")\n",
    "plt.show()"
   ]
  },
  {
   "cell_type": "code",
   "execution_count": 38,
   "metadata": {},
   "outputs": [
    {
     "name": "stdout",
     "output_type": "stream",
     "text": [
      "             precision    recall  f1-score   support\n",
      "\n",
      "          0       0.71      0.66      0.68     26869\n",
      "          1       0.93      0.94      0.94    130081\n",
      "\n",
      "avg / total       0.89      0.89      0.89    156950\n",
      "\n"
     ]
    }
   ],
   "source": [
    "#Checking Precision, Recall and F1 Score\n",
    "print metrics.classification_report(test.Score, y_pred_class_nb)"
   ]
  },
  {
   "cell_type": "code",
   "execution_count": 39,
   "metadata": {
    "collapsed": true
   },
   "outputs": [],
   "source": [
    "# calculate predicted probabilities for X_test_dtm (poorly calibrated)\n",
    "#y_pred_prob = nb.predict_proba(X_test_dtm)[:, 1]\n",
    "#y_pred_prob"
   ]
  },
  {
   "cell_type": "code",
   "execution_count": 40,
   "metadata": {},
   "outputs": [
    {
     "name": "stdout",
     "output_type": "stream",
     "text": [
      "0.802133745906\n"
     ]
    }
   ],
   "source": [
    "# calculate AUC - Method 1\n",
    "false_positive_rate, true_positive_rate, thresholds = metrics.roc_curve(test.Score, y_pred_class_nb)\n",
    "print metrics.auc(false_positive_rate, true_positive_rate)"
   ]
  },
  {
   "cell_type": "code",
   "execution_count": 41,
   "metadata": {
    "scrolled": true
   },
   "outputs": [
    {
     "name": "stdout",
     "output_type": "stream",
     "text": [
      "0.802133745906\n"
     ]
    }
   ],
   "source": [
    "# calculate AUC _ Method - 2\n",
    "auc_nb = metrics.roc_auc_score(test.Score, y_pred_class_nb)\n",
    "print(auc_nb)"
   ]
  },
  {
   "cell_type": "code",
   "execution_count": 42,
   "metadata": {},
   "outputs": [
    {
     "data": {
      "image/png": "[encoded data removed]",
      "text/plain": [
       "<matplotlib.figure.Figure at 0x23103f60>"
      ]
     },
     "metadata": {},
     "output_type": "display_data"
    }
   ],
   "source": [
    "#Plotting Area Under the Curve\n",
    "plt.plot(false_positive_rate,true_positive_rate,label=\"Naive Bayes, AUC=\"+str(auc_nb))\n",
    "plt.plot([0,1],[0,1],'r--')\n",
    "plt.title('ROC curve: Naive Bayes')\n",
    "plt.legend(loc='lower right')\n",
    "plt.ylabel('True Positive Rate')\n",
    "plt.xlabel('False Positive Rate')\n",
    "plt.show()"
   ]
  },
  {
   "cell_type": "code",
   "execution_count": 43,
   "metadata": {},
   "outputs": [
    {
     "data": {
      "text/plain": [
       "3.6273331357113858"
      ]
     },
     "execution_count": 43,
     "metadata": {},
     "output_type": "execute_result"
    }
   ],
   "source": [
    "#Calculating Log-Loss\n",
    "metrics.log_loss(test.Score, y_pred_class_nb)"
   ]
  },
  {
   "cell_type": "markdown",
   "metadata": {},
   "source": [
    "### Logistic Regression with L2 Regularizor"
   ]
  },
  {
   "cell_type": "code",
   "execution_count": 44,
   "metadata": {
    "collapsed": true
   },
   "outputs": [],
   "source": [
    "# import and instantiate a logistic regression model\n",
    "from sklearn.linear_model import LogisticRegression\n",
    "logreg_l2 = LogisticRegression()"
   ]
  },
  {
   "cell_type": "code",
   "execution_count": 45,
   "metadata": {},
   "outputs": [
    {
     "name": "stdout",
     "output_type": "stream",
     "text": [
      "Wall time: 2min 8s\n"
     ]
    },
    {
     "data": {
      "text/plain": [
       "LogisticRegression(C=1.0, class_weight=None, dual=False, fit_intercept=True,\n",
       "          intercept_scaling=1, max_iter=100, multi_class='ovr', n_jobs=1,\n",
       "          penalty='l2', random_state=None, solver='liblinear', tol=0.0001,\n",
       "          verbose=0, warm_start=False)"
      ]
     },
     "execution_count": 45,
     "metadata": {},
     "output_type": "execute_result"
    }
   ],
   "source": [
    "# train the model using X_train_dtm\n",
    "%time logreg_l2.fit(X_train_dtm, train.Score)"
   ]
  },
  {
   "cell_type": "code",
   "execution_count": 46,
   "metadata": {
    "collapsed": true
   },
   "outputs": [],
   "source": [
    "# make class predictions for X_test_dtm\n",
    "y_pred_class_l2 = logreg_l2.predict(X_test_dtm)"
   ]
  },
  {
   "cell_type": "code",
   "execution_count": 47,
   "metadata": {},
   "outputs": [
    {
     "data": {
      "text/plain": [
       "0.91374960178400766"
      ]
     },
     "execution_count": 47,
     "metadata": {},
     "output_type": "execute_result"
    }
   ],
   "source": [
    "# calculate accuracy\n",
    "metrics.accuracy_score(test.Score, y_pred_class_l2)"
   ]
  },
  {
   "cell_type": "code",
   "execution_count": 48,
   "metadata": {},
   "outputs": [
    {
     "data": {
      "text/plain": [
       "array([[ 17898,   8971],\n",
       "       [  4566, 125515]])"
      ]
     },
     "execution_count": 48,
     "metadata": {},
     "output_type": "execute_result"
    }
   ],
   "source": [
    "# print the confusion matrix\n",
    "con_metrics_l2 = metrics.confusion_matrix(test.Score, y_pred_class_l2)\n",
    "con_metrics_l2"
   ]
  },
  {
   "cell_type": "code",
   "execution_count": 49,
   "metadata": {},
   "outputs": [
    {
     "data": {
      "image/png": "[encoded data removed]",
      "text/plain": [
       "<matplotlib.figure.Figure at 0x290c1be0>"
      ]
     },
     "metadata": {},
     "output_type": "display_data"
    }
   ],
   "source": [
    "#ploting heatmap for confusion matrix\n",
    "sns.heatmap(con_metrics_l2, annot=True, fmt='d')\n",
    "plt.title(\"Confusion Matrix: Logistic Regression with L2 Regularizor\")\n",
    "plt.show()"
   ]
  },
  {
   "cell_type": "code",
   "execution_count": 50,
   "metadata": {},
   "outputs": [
    {
     "name": "stdout",
     "output_type": "stream",
     "text": [
      "             precision    recall  f1-score   support\n",
      "\n",
      "          0       0.80      0.67      0.73     26869\n",
      "          1       0.93      0.96      0.95    130081\n",
      "\n",
      "avg / total       0.91      0.91      0.91    156950\n",
      "\n"
     ]
    }
   ],
   "source": [
    "#Checking Precision, Recall and F1 Score\n",
    "print metrics.classification_report(test.Score, y_pred_class_l2)"
   ]
  },
  {
   "cell_type": "code",
   "execution_count": 51,
   "metadata": {},
   "outputs": [
    {
     "name": "stdout",
     "output_type": "stream",
     "text": [
      "0.815509801097\n"
     ]
    }
   ],
   "source": [
    "# calculate AUC\n",
    "auc_l2 = metrics.roc_auc_score(test.Score, y_pred_class_l2)\n",
    "print(auc_l2)"
   ]
  },
  {
   "cell_type": "code",
   "execution_count": 52,
   "metadata": {},
   "outputs": [
    {
     "data": {
      "image/png": "[encoded data removed]",
      "text/plain": [
       "<matplotlib.figure.Figure at 0x27ca47f0>"
      ]
     },
     "metadata": {},
     "output_type": "display_data"
    }
   ],
   "source": [
    "#Plotting Area Under the Curve\n",
    "false_positive_rate, true_positive_rate, thresholds = metrics.roc_curve(test.Score, y_pred_class_l2)\n",
    "plt.plot(false_positive_rate,true_positive_rate,label=\"L2, AUC=\"+str(auc_l2))\n",
    "plt.plot([0,1],[0,1],'r--')\n",
    "plt.title('ROC curve: Logistic Regression with L2 Regularizor')\n",
    "plt.legend(loc='lower right')\n",
    "plt.ylabel('True Positive Rate')\n",
    "plt.xlabel('False Positive Rate')\n",
    "plt.show()"
   ]
  },
  {
   "cell_type": "code",
   "execution_count": 53,
   "metadata": {},
   "outputs": [
    {
     "data": {
      "text/plain": [
       "2.9790289216084886"
      ]
     },
     "execution_count": 53,
     "metadata": {},
     "output_type": "execute_result"
    }
   ],
   "source": [
    "#Calculating Log-Loss\n",
    "metrics.log_loss(test.Score, y_pred_class_l2)"
   ]
  },
  {
   "cell_type": "markdown",
   "metadata": {},
   "source": [
    "### Logistic Regression with L1 Regularizor"
   ]
  },
  {
   "cell_type": "code",
   "execution_count": 54,
   "metadata": {
    "collapsed": true
   },
   "outputs": [],
   "source": [
    "# import and instantiate a logistic regression model\n",
    "from sklearn.linear_model import LogisticRegression\n",
    "logreg_l1 = LogisticRegression(penalty='l1')"
   ]
  },
  {
   "cell_type": "code",
   "execution_count": 55,
   "metadata": {},
   "outputs": [
    {
     "name": "stdout",
     "output_type": "stream",
     "text": [
      "Wall time: 15.3 s\n"
     ]
    },
    {
     "data": {
      "text/plain": [
       "LogisticRegression(C=1.0, class_weight=None, dual=False, fit_intercept=True,\n",
       "          intercept_scaling=1, max_iter=100, multi_class='ovr', n_jobs=1,\n",
       "          penalty='l1', random_state=None, solver='liblinear', tol=0.0001,\n",
       "          verbose=0, warm_start=False)"
      ]
     },
     "execution_count": 55,
     "metadata": {},
     "output_type": "execute_result"
    }
   ],
   "source": [
    "# train the model using X_train_dtm\n",
    "%time logreg_l1.fit(X_train_dtm, train.Score)"
   ]
  },
  {
   "cell_type": "code",
   "execution_count": 56,
   "metadata": {
    "collapsed": true
   },
   "outputs": [],
   "source": [
    "# make class predictions for X_test_dtm\n",
    "y_pred_class_l1 = logreg_l1.predict(X_test_dtm)"
   ]
  },
  {
   "cell_type": "code",
   "execution_count": 57,
   "metadata": {},
   "outputs": [
    {
     "data": {
      "text/plain": [
       "0.9137878305192737"
      ]
     },
     "execution_count": 57,
     "metadata": {},
     "output_type": "execute_result"
    }
   ],
   "source": [
    "# calculate accuracy\n",
    "metrics.accuracy_score(test.Score, y_pred_class_l1)"
   ]
  },
  {
   "cell_type": "code",
   "execution_count": 58,
   "metadata": {},
   "outputs": [
    {
     "data": {
      "text/plain": [
       "array([[ 17911,   8958],\n",
       "       [  4573, 125508]])"
      ]
     },
     "execution_count": 58,
     "metadata": {},
     "output_type": "execute_result"
    }
   ],
   "source": [
    "# print the confusion matrix\n",
    "con_metrics_l1 = metrics.confusion_matrix(test.Score, y_pred_class_l1)\n",
    "con_metrics_l1"
   ]
  },
  {
   "cell_type": "code",
   "execution_count": 59,
   "metadata": {},
   "outputs": [
    {
     "data": {
      "image/png": "[encoded data removed]",
      "text/plain": [
       "<matplotlib.figure.Figure at 0x29094a58>"
      ]
     },
     "metadata": {},
     "output_type": "display_data"
    }
   ],
   "source": [
    "#ploting heatmap for confusion matrix\n",
    "sns.heatmap(con_metrics_l1, annot=True, fmt='d')\n",
    "plt.title(\"Confusion Matrix: Logistic Regression with L1 Regularizor\")\n",
    "plt.show()"
   ]
  },
  {
   "cell_type": "code",
   "execution_count": 60,
   "metadata": {},
   "outputs": [
    {
     "name": "stdout",
     "output_type": "stream",
     "text": [
      "             precision    recall  f1-score   support\n",
      "\n",
      "          0       0.80      0.67      0.73     26869\n",
      "          1       0.93      0.96      0.95    130081\n",
      "\n",
      "avg / total       0.91      0.91      0.91    156950\n",
      "\n"
     ]
    }
   ],
   "source": [
    "#Checking Precision, Recall and F1 Score\n",
    "print metrics.classification_report(test.Score, y_pred_class_l1)"
   ]
  },
  {
   "cell_type": "code",
   "execution_count": 61,
   "metadata": {},
   "outputs": [
    {
     "name": "stdout",
     "output_type": "stream",
     "text": [
      "0.815724809259\n"
     ]
    }
   ],
   "source": [
    "# calculate AUC\n",
    "auc_l1 = metrics.roc_auc_score(test.Score, y_pred_class_l1)\n",
    "print(auc_l1)"
   ]
  },
  {
   "cell_type": "code",
   "execution_count": 72,
   "metadata": {},
   "outputs": [
    {
     "data": {
      "image/png": "[encoded data removed]",
      "text/plain": [
       "<matplotlib.figure.Figure at 0x2fb0e278>"
      ]
     },
     "metadata": {},
     "output_type": "display_data"
    }
   ],
   "source": [
    "#Plotting Area Under the Curve\n",
    "false_positive_rate, true_positive_rate, thresholds = metrics.roc_curve(test.Score, y_pred_class_l1)\n",
    "plt.plot(false_positive_rate,true_positive_rate,label=\"L1, AUC=\"+str(auc_l1))\n",
    "plt.plot([0,1],[0,1],'r--')\n",
    "plt.title('ROC curve: Logistic Regression with L1 Regularizor')\n",
    "plt.legend(loc='lower right')\n",
    "plt.ylabel('True Positive Rate')\n",
    "plt.xlabel('False Positive Rate')\n",
    "plt.show()"
   ]
  },
  {
   "cell_type": "code",
   "execution_count": 73,
   "metadata": {},
   "outputs": [
    {
     "data": {
      "text/plain": [
       "2.9777084816394788"
      ]
     },
     "execution_count": 73,
     "metadata": {},
     "output_type": "execute_result"
    }
   ],
   "source": [
    "#Calculating Log-Loss\n",
    "metrics.log_loss(test.Score, y_pred_class_l1)"
   ]
  },
  {
   "cell_type": "markdown",
   "metadata": {},
   "source": [
    "### Support Vector Machines: Linear SVC"
   ]
  },
  {
   "cell_type": "code",
   "execution_count": 74,
   "metadata": {},
   "outputs": [
    {
     "name": "stdout",
     "output_type": "stream",
     "text": [
      "Wall time: 1min 14s\n"
     ]
    },
    {
     "data": {
      "text/plain": [
       "LinearSVC(C=1.0, class_weight=None, dual=True, fit_intercept=True,\n",
       "     intercept_scaling=1, loss='squared_hinge', max_iter=1000,\n",
       "     multi_class='ovr', penalty='l2', random_state=None, tol=0.0001,\n",
       "     verbose=0)"
      ]
     },
     "execution_count": 74,
     "metadata": {},
     "output_type": "execute_result"
    }
   ],
   "source": [
    "# import and instantiate a Linear SVM model\n",
    "from sklearn import svm\n",
    "lrsvc = svm.LinearSVC()\n",
    "# train the model using X_train_dtm\n",
    "%time lrsvc.fit(X_train_dtm, train.Score)"
   ]
  },
  {
   "cell_type": "code",
   "execution_count": 75,
   "metadata": {
    "collapsed": true
   },
   "outputs": [],
   "source": [
    "# make class predictions for X_test_dtm\n",
    "y_pred_class_lrsvc = lrsvc.predict(X_test_dtm)"
   ]
  },
  {
   "cell_type": "code",
   "execution_count": 76,
   "metadata": {},
   "outputs": [
    {
     "data": {
      "text/plain": [
       "0.90521822236381011"
      ]
     },
     "execution_count": 76,
     "metadata": {},
     "output_type": "execute_result"
    }
   ],
   "source": [
    "# calculate accuracy\n",
    "metrics.accuracy_score(test.Score, y_pred_class_lrsvc)"
   ]
  },
  {
   "cell_type": "code",
   "execution_count": 77,
   "metadata": {},
   "outputs": [
    {
     "data": {
      "text/plain": [
       "array([[ 17658,   9211],\n",
       "       [  5665, 124416]])"
      ]
     },
     "execution_count": 77,
     "metadata": {},
     "output_type": "execute_result"
    }
   ],
   "source": [
    "# print the confusion matrix\n",
    "con_metrics_lrsvc = metrics.confusion_matrix(test.Score, y_pred_class_lrsvc)\n",
    "con_metrics_lrsvc"
   ]
  },
  {
   "cell_type": "code",
   "execution_count": 78,
   "metadata": {},
   "outputs": [
    {
     "data": {
      "image/png": "[encoded data removed]",
      "text/plain": [
       "<matplotlib.figure.Figure at 0x2d652400>"
      ]
     },
     "metadata": {},
     "output_type": "display_data"
    }
   ],
   "source": [
    "#ploting heatmap for confusion matrix\n",
    "sns.heatmap(con_metrics_lrsvc, annot=True, fmt='d')\n",
    "plt.title(\"Confusion Matrix: Linear SVC\")\n",
    "plt.show()"
   ]
  },
  {
   "cell_type": "code",
   "execution_count": 79,
   "metadata": {},
   "outputs": [
    {
     "name": "stdout",
     "output_type": "stream",
     "text": [
      "             precision    recall  f1-score   support\n",
      "\n",
      "          0       0.76      0.66      0.70     26869\n",
      "          1       0.93      0.96      0.94    130081\n",
      "\n",
      "avg / total       0.90      0.91      0.90    156950\n",
      "\n"
     ]
    }
   ],
   "source": [
    "#Checking Precision, Recall and F1 Score\n",
    "print metrics.classification_report(test.Score, y_pred_class_lrsvc)"
   ]
  },
  {
   "cell_type": "code",
   "execution_count": 80,
   "metadata": {},
   "outputs": [
    {
     "name": "stdout",
     "output_type": "stream",
     "text": [
      "0.806819396714\n"
     ]
    }
   ],
   "source": [
    "# calculate AUC\n",
    "auc_lrsvc = metrics.roc_auc_score(test.Score, y_pred_class_lrsvc)\n",
    "print(auc_lrsvc)"
   ]
  },
  {
   "cell_type": "code",
   "execution_count": 81,
   "metadata": {
    "scrolled": false
   },
   "outputs": [
    {
     "data": {
      "image/png": "[encoded data removed]",
      "text/plain": [
       "<matplotlib.figure.Figure at 0x2f555668>"
      ]
     },
     "metadata": {},
     "output_type": "display_data"
    }
   ],
   "source": [
    "#Plotting Area Under the Curve\n",
    "false_positive_rate, true_positive_rate, thresholds = metrics.roc_curve(test.Score, y_pred_class_lrsvc)\n",
    "plt.plot(false_positive_rate,true_positive_rate,label=\"Lr. SVM, AUC=\"+str(auc_lrsvc))\n",
    "plt.plot([0,1],[0,1],'r--')\n",
    "plt.title('ROC curve: Linear SVC')\n",
    "plt.legend(loc='lower right')\n",
    "plt.ylabel('True Positive Rate')\n",
    "plt.xlabel('False Positive Rate')\n",
    "plt.show()"
   ]
  },
  {
   "cell_type": "code",
   "execution_count": 82,
   "metadata": {},
   "outputs": [
    {
     "data": {
      "text/plain": [
       "3.2736935504467723"
      ]
     },
     "execution_count": 82,
     "metadata": {},
     "output_type": "execute_result"
    }
   ],
   "source": [
    "#Calculating Log-Loss\n",
    "metrics.log_loss(test.Score, y_pred_class_lrsvc)"
   ]
  },
  {
   "cell_type": "markdown",
   "metadata": {},
   "source": [
    "### Support Vector Machines: RBF Kernel SVC"
   ]
  },
  {
   "cell_type": "code",
   "execution_count": 83,
   "metadata": {},
   "outputs": [
    {
     "data": {
      "text/plain": [
       "SGDClassifier(alpha=0.0001, average=False, class_weight=None, epsilon=0.1,\n",
       "       eta0=0.0, fit_intercept=True, l1_ratio=0.15,\n",
       "       learning_rate='optimal', loss='hinge', n_iter=5, n_jobs=1,\n",
       "       penalty='l2', power_t=0.5, random_state=None, shuffle=True,\n",
       "       verbose=0, warm_start=False)"
      ]
     },
     "execution_count": 83,
     "metadata": {},
     "output_type": "execute_result"
    }
   ],
   "source": [
    "from sklearn.kernel_approximation import RBFSampler\n",
    "from sklearn.linear_model import SGDClassifier\n",
    "\n",
    "rbf_feature = RBFSampler(gamma=1, random_state=1)\n",
    "X_features = rbf_feature.fit_transform(X_train_dtm)\n",
    "clf = SGDClassifier()   \n",
    "clf.fit(X_features, train.Score)"
   ]
  },
  {
   "cell_type": "code",
   "execution_count": 84,
   "metadata": {
    "collapsed": true
   },
   "outputs": [],
   "source": [
    "test_feature = rbf_feature.transform(X_test_dtm)"
   ]
  },
  {
   "cell_type": "code",
   "execution_count": 85,
   "metadata": {
    "collapsed": true
   },
   "outputs": [],
   "source": [
    "y_pred_class_rbfsvc = clf.predict(test_feature)"
   ]
  },
  {
   "cell_type": "code",
   "execution_count": 86,
   "metadata": {},
   "outputs": [
    {
     "data": {
      "text/plain": [
       "0.82880535202293726"
      ]
     },
     "execution_count": 86,
     "metadata": {},
     "output_type": "execute_result"
    }
   ],
   "source": [
    "# calculate accuracy\n",
    "metrics.accuracy_score(test.Score, y_pred_class_rbfsvc)"
   ]
  },
  {
   "cell_type": "code",
   "execution_count": 87,
   "metadata": {},
   "outputs": [
    {
     "data": {
      "text/plain": [
       "array([[     0,  26869],\n",
       "       [     0, 130081]])"
      ]
     },
     "execution_count": 87,
     "metadata": {},
     "output_type": "execute_result"
    }
   ],
   "source": [
    "# print the confusion matrix\n",
    "con_metrics_rbfsvc = metrics.confusion_matrix(test.Score, y_pred_class_rbfsvc)\n",
    "con_metrics_rbfsvc"
   ]
  },
  {
   "cell_type": "code",
   "execution_count": 88,
   "metadata": {},
   "outputs": [
    {
     "data": {
      "image/png": "[encoded data removed]",
      "text/plain": [
       "<matplotlib.figure.Figure at 0x2d9178d0>"
      ]
     },
     "metadata": {},
     "output_type": "display_data"
    }
   ],
   "source": [
    "#ploting heatmap for confusion matrix\n",
    "sns.heatmap(con_metrics_rbfsvc, annot=True, fmt='d')\n",
    "plt.title(\"Confusion Matrix: RBF Kernel SVC\")\n",
    "plt.show()"
   ]
  },
  {
   "cell_type": "code",
   "execution_count": 90,
   "metadata": {},
   "outputs": [
    {
     "name": "stdout",
     "output_type": "stream",
     "text": [
      "             precision    recall  f1-score   support\n",
      "\n",
      "          0       0.00      0.00      0.00     26869\n",
      "          1       0.83      1.00      0.91    130081\n",
      "\n",
      "avg / total       0.69      0.83      0.75    156950\n",
      "\n"
     ]
    }
   ],
   "source": [
    "#Checking Precision, Recall and F1 Score\n",
    "print metrics.classification_report(test.Score, y_pred_class_rbfsvc)"
   ]
  }
 ],
 "metadata": {
  "kernelspec": {
   "display_name": "Python 2",
   "language": "python",
   "name": "python2"
  },
  "language_info": {
   "codemirror_mode": {
    "name": "ipython",
    "version": 2
   },
   "file_extension": ".py",
   "mimetype": "text/x-python",
   "name": "python",
   "nbconvert_exporter": "python",
   "pygments_lexer": "ipython2",
   "version": "2.7.13"
  }
 },
 "nbformat": 4,
 "nbformat_minor": 2
}
